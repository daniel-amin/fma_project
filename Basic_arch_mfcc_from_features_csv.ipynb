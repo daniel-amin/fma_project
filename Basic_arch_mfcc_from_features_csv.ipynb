{
 "cells": [
  {
   "cell_type": "code",
   "execution_count": 45,
   "metadata": {
    "colab": {
     "base_uri": "https://localhost:8080/",
     "height": 34
    },
    "colab_type": "code",
    "id": "_YuPxQ_pvFrZ",
    "outputId": "6529b792-ff40-429c-b787-e9339c90cd96"
   },
   "outputs": [],
   "source": [
    "#from google.colab import drive\n",
    "#drive.mount('/content/drive')"
   ]
  },
  {
   "cell_type": "code",
   "execution_count": 46,
   "metadata": {
    "colab": {
     "base_uri": "https://localhost:8080/",
     "height": 34
    },
    "colab_type": "code",
    "id": "1sIzxUgDRQ54",
    "outputId": "38a127e6-82c0-4c6a-f3fd-a02669a733a6"
   },
   "outputs": [],
   "source": [
    "#!pip install python-dotenv"
   ]
  },
  {
   "cell_type": "code",
   "execution_count": 3,
   "metadata": {
    "colab": {},
    "colab_type": "code",
    "id": "Hdi7lULUPn6U"
   },
   "outputs": [],
   "source": [
    "#import sys\n",
    "#sys.path.append('/content/drive/My Drive/')\n",
    "\n",
    "import utils"
   ]
  },
  {
   "cell_type": "code",
   "execution_count": 4,
   "metadata": {
    "colab": {},
    "colab_type": "code",
    "id": "yk-5ucLNMKWi"
   },
   "outputs": [],
   "source": [
    "import pandas as pd\n",
    "\n",
    "features = utils.load('features.csv')\n",
    "#tracks = utils.load('/content/drive/My Drive/tracks.csv')"
   ]
  },
  {
   "cell_type": "code",
   "execution_count": 388,
   "metadata": {
    "colab": {
     "base_uri": "https://localhost:8080/",
     "height": 513
    },
    "colab_type": "code",
    "id": "FHGs85V9MeKK",
    "outputId": "fc556d20-3a1c-4298-d997-763d95ffbc7c"
   },
   "outputs": [
    {
     "name": "stderr",
     "output_type": "stream",
     "text": [
      "/opt/anaconda3/lib/python3.7/site-packages/IPython/core/interactiveshell.py:3063: DtypeWarning: Columns (0,1,5,6,8,12,18,20,21,22,24,33,34,38,39,44,47,49) have mixed types.Specify dtype option on import or set low_memory=False.\n",
      "  interactivity=interactivity, compiler=compiler, result=result)\n"
     ]
    },
    {
     "data": {
      "text/html": [
       "<div>\n",
       "<style scoped>\n",
       "    .dataframe tbody tr th:only-of-type {\n",
       "        vertical-align: middle;\n",
       "    }\n",
       "\n",
       "    .dataframe tbody tr th {\n",
       "        vertical-align: top;\n",
       "    }\n",
       "\n",
       "    .dataframe thead th {\n",
       "        text-align: right;\n",
       "    }\n",
       "</style>\n",
       "<table border=\"1\" class=\"dataframe\">\n",
       "  <thead>\n",
       "    <tr style=\"text-align: right;\">\n",
       "      <th></th>\n",
       "      <th>track_id</th>\n",
       "      <th>comments</th>\n",
       "      <th>date_created</th>\n",
       "      <th>date_released</th>\n",
       "      <th>engineer</th>\n",
       "      <th>favorites</th>\n",
       "      <th>id</th>\n",
       "      <th>information</th>\n",
       "      <th>listens</th>\n",
       "      <th>producer</th>\n",
       "      <th>tags</th>\n",
       "      <th>title</th>\n",
       "      <th>tracks</th>\n",
       "      <th>type</th>\n",
       "      <th>active_year_begin</th>\n",
       "      <th>active_year_end</th>\n",
       "      <th>associated_labels</th>\n",
       "      <th>bio</th>\n",
       "      <th>comments</th>\n",
       "      <th>date_created</th>\n",
       "      <th>favorites</th>\n",
       "      <th>id</th>\n",
       "      <th>latitude</th>\n",
       "      <th>location</th>\n",
       "      <th>longitude</th>\n",
       "      <th>members</th>\n",
       "      <th>name</th>\n",
       "      <th>related_projects</th>\n",
       "      <th>tags</th>\n",
       "      <th>website</th>\n",
       "      <th>wikipedia_page</th>\n",
       "      <th>split</th>\n",
       "      <th>subset</th>\n",
       "      <th>bit_rate</th>\n",
       "      <th>comments</th>\n",
       "      <th>composer</th>\n",
       "      <th>date_created</th>\n",
       "      <th>date_recorded</th>\n",
       "      <th>duration</th>\n",
       "      <th>favorites</th>\n",
       "      <th>genre_top</th>\n",
       "      <th>genres</th>\n",
       "      <th>genres_all</th>\n",
       "      <th>information</th>\n",
       "      <th>interest</th>\n",
       "      <th>language_code</th>\n",
       "      <th>license</th>\n",
       "      <th>listens</th>\n",
       "      <th>lyricist</th>\n",
       "      <th>number</th>\n",
       "      <th>publisher</th>\n",
       "      <th>tags</th>\n",
       "      <th>title</th>\n",
       "    </tr>\n",
       "  </thead>\n",
       "  <tbody>\n",
       "    <tr>\n",
       "      <th>0</th>\n",
       "      <td>2</td>\n",
       "      <td>0</td>\n",
       "      <td>2008-11-26 01:44:45</td>\n",
       "      <td>2009-01-05 00:00:00</td>\n",
       "      <td>NaN</td>\n",
       "      <td>4</td>\n",
       "      <td>1</td>\n",
       "      <td>&lt;p&gt;&lt;/p&gt;</td>\n",
       "      <td>6073</td>\n",
       "      <td>NaN</td>\n",
       "      <td>[]</td>\n",
       "      <td>AWOL - A Way Of Life</td>\n",
       "      <td>7</td>\n",
       "      <td>Album</td>\n",
       "      <td>2006-01-01 00:00:00</td>\n",
       "      <td>NaN</td>\n",
       "      <td>NaN</td>\n",
       "      <td>&lt;p&gt;A Way Of Life, A Collective of Hip-Hop from...</td>\n",
       "      <td>0</td>\n",
       "      <td>2008-11-26 01:42:32</td>\n",
       "      <td>9</td>\n",
       "      <td>1</td>\n",
       "      <td>40.0583238</td>\n",
       "      <td>New Jersey</td>\n",
       "      <td>-74.4056612</td>\n",
       "      <td>Sajje Morocco,Brownbum,ZawidaGod,Custodian of ...</td>\n",
       "      <td>AWOL</td>\n",
       "      <td>The list of past projects is 2 long but every1...</td>\n",
       "      <td>['awol']</td>\n",
       "      <td>http://www.AzillionRecords.blogspot.com</td>\n",
       "      <td>NaN</td>\n",
       "      <td>training</td>\n",
       "      <td>small</td>\n",
       "      <td>256000</td>\n",
       "      <td>0</td>\n",
       "      <td>NaN</td>\n",
       "      <td>2008-11-26 01:48:12</td>\n",
       "      <td>2008-11-26 00:00:00</td>\n",
       "      <td>168</td>\n",
       "      <td>2</td>\n",
       "      <td>Hip-Hop</td>\n",
       "      <td>[21]</td>\n",
       "      <td>[21]</td>\n",
       "      <td>NaN</td>\n",
       "      <td>4656</td>\n",
       "      <td>en</td>\n",
       "      <td>Attribution-NonCommercial-ShareAlike 3.0 Inter...</td>\n",
       "      <td>1293</td>\n",
       "      <td>NaN</td>\n",
       "      <td>3</td>\n",
       "      <td>NaN</td>\n",
       "      <td>[]</td>\n",
       "      <td>Food</td>\n",
       "    </tr>\n",
       "    <tr>\n",
       "      <th>1</th>\n",
       "      <td>3</td>\n",
       "      <td>0</td>\n",
       "      <td>2008-11-26 01:44:45</td>\n",
       "      <td>2009-01-05 00:00:00</td>\n",
       "      <td>NaN</td>\n",
       "      <td>4</td>\n",
       "      <td>1</td>\n",
       "      <td>&lt;p&gt;&lt;/p&gt;</td>\n",
       "      <td>6073</td>\n",
       "      <td>NaN</td>\n",
       "      <td>[]</td>\n",
       "      <td>AWOL - A Way Of Life</td>\n",
       "      <td>7</td>\n",
       "      <td>Album</td>\n",
       "      <td>2006-01-01 00:00:00</td>\n",
       "      <td>NaN</td>\n",
       "      <td>NaN</td>\n",
       "      <td>&lt;p&gt;A Way Of Life, A Collective of Hip-Hop from...</td>\n",
       "      <td>0</td>\n",
       "      <td>2008-11-26 01:42:32</td>\n",
       "      <td>9</td>\n",
       "      <td>1</td>\n",
       "      <td>40.0583238</td>\n",
       "      <td>New Jersey</td>\n",
       "      <td>-74.4056612</td>\n",
       "      <td>Sajje Morocco,Brownbum,ZawidaGod,Custodian of ...</td>\n",
       "      <td>AWOL</td>\n",
       "      <td>The list of past projects is 2 long but every1...</td>\n",
       "      <td>['awol']</td>\n",
       "      <td>http://www.AzillionRecords.blogspot.com</td>\n",
       "      <td>NaN</td>\n",
       "      <td>training</td>\n",
       "      <td>medium</td>\n",
       "      <td>256000</td>\n",
       "      <td>0</td>\n",
       "      <td>NaN</td>\n",
       "      <td>2008-11-26 01:48:14</td>\n",
       "      <td>2008-11-26 00:00:00</td>\n",
       "      <td>237</td>\n",
       "      <td>1</td>\n",
       "      <td>Hip-Hop</td>\n",
       "      <td>[21]</td>\n",
       "      <td>[21]</td>\n",
       "      <td>NaN</td>\n",
       "      <td>1470</td>\n",
       "      <td>en</td>\n",
       "      <td>Attribution-NonCommercial-ShareAlike 3.0 Inter...</td>\n",
       "      <td>514</td>\n",
       "      <td>NaN</td>\n",
       "      <td>4</td>\n",
       "      <td>NaN</td>\n",
       "      <td>[]</td>\n",
       "      <td>Electric Ave</td>\n",
       "    </tr>\n",
       "    <tr>\n",
       "      <th>2</th>\n",
       "      <td>5</td>\n",
       "      <td>0</td>\n",
       "      <td>2008-11-26 01:44:45</td>\n",
       "      <td>2009-01-05 00:00:00</td>\n",
       "      <td>NaN</td>\n",
       "      <td>4</td>\n",
       "      <td>1</td>\n",
       "      <td>&lt;p&gt;&lt;/p&gt;</td>\n",
       "      <td>6073</td>\n",
       "      <td>NaN</td>\n",
       "      <td>[]</td>\n",
       "      <td>AWOL - A Way Of Life</td>\n",
       "      <td>7</td>\n",
       "      <td>Album</td>\n",
       "      <td>2006-01-01 00:00:00</td>\n",
       "      <td>NaN</td>\n",
       "      <td>NaN</td>\n",
       "      <td>&lt;p&gt;A Way Of Life, A Collective of Hip-Hop from...</td>\n",
       "      <td>0</td>\n",
       "      <td>2008-11-26 01:42:32</td>\n",
       "      <td>9</td>\n",
       "      <td>1</td>\n",
       "      <td>40.0583238</td>\n",
       "      <td>New Jersey</td>\n",
       "      <td>-74.4056612</td>\n",
       "      <td>Sajje Morocco,Brownbum,ZawidaGod,Custodian of ...</td>\n",
       "      <td>AWOL</td>\n",
       "      <td>The list of past projects is 2 long but every1...</td>\n",
       "      <td>['awol']</td>\n",
       "      <td>http://www.AzillionRecords.blogspot.com</td>\n",
       "      <td>NaN</td>\n",
       "      <td>training</td>\n",
       "      <td>small</td>\n",
       "      <td>256000</td>\n",
       "      <td>0</td>\n",
       "      <td>NaN</td>\n",
       "      <td>2008-11-26 01:48:20</td>\n",
       "      <td>2008-11-26 00:00:00</td>\n",
       "      <td>206</td>\n",
       "      <td>6</td>\n",
       "      <td>Hip-Hop</td>\n",
       "      <td>[21]</td>\n",
       "      <td>[21]</td>\n",
       "      <td>NaN</td>\n",
       "      <td>1933</td>\n",
       "      <td>en</td>\n",
       "      <td>Attribution-NonCommercial-ShareAlike 3.0 Inter...</td>\n",
       "      <td>1151</td>\n",
       "      <td>NaN</td>\n",
       "      <td>6</td>\n",
       "      <td>NaN</td>\n",
       "      <td>[]</td>\n",
       "      <td>This World</td>\n",
       "    </tr>\n",
       "    <tr>\n",
       "      <th>3</th>\n",
       "      <td>10</td>\n",
       "      <td>0</td>\n",
       "      <td>2008-11-26 01:45:08</td>\n",
       "      <td>2008-02-06 00:00:00</td>\n",
       "      <td>NaN</td>\n",
       "      <td>4</td>\n",
       "      <td>6</td>\n",
       "      <td>NaN</td>\n",
       "      <td>47632</td>\n",
       "      <td>NaN</td>\n",
       "      <td>[]</td>\n",
       "      <td>Constant Hitmaker</td>\n",
       "      <td>2</td>\n",
       "      <td>Album</td>\n",
       "      <td>NaN</td>\n",
       "      <td>NaN</td>\n",
       "      <td>Mexican Summer, Richie Records, Woodsist, Skul...</td>\n",
       "      <td>&lt;p&gt;&lt;span style=\"font-family:Verdana, Geneva, A...</td>\n",
       "      <td>3</td>\n",
       "      <td>2008-11-26 01:42:55</td>\n",
       "      <td>74</td>\n",
       "      <td>6</td>\n",
       "      <td>NaN</td>\n",
       "      <td>NaN</td>\n",
       "      <td>NaN</td>\n",
       "      <td>Kurt Vile, the Violators</td>\n",
       "      <td>Kurt Vile</td>\n",
       "      <td>NaN</td>\n",
       "      <td>['philly', 'kurt vile']</td>\n",
       "      <td>http://kurtvile.com</td>\n",
       "      <td>NaN</td>\n",
       "      <td>training</td>\n",
       "      <td>small</td>\n",
       "      <td>192000</td>\n",
       "      <td>0</td>\n",
       "      <td>Kurt Vile</td>\n",
       "      <td>2008-11-25 17:49:06</td>\n",
       "      <td>2008-11-26 00:00:00</td>\n",
       "      <td>161</td>\n",
       "      <td>178</td>\n",
       "      <td>Pop</td>\n",
       "      <td>[10]</td>\n",
       "      <td>[10]</td>\n",
       "      <td>NaN</td>\n",
       "      <td>54881</td>\n",
       "      <td>en</td>\n",
       "      <td>Attribution-NonCommercial-NoDerivatives (aka M...</td>\n",
       "      <td>50135</td>\n",
       "      <td>NaN</td>\n",
       "      <td>1</td>\n",
       "      <td>NaN</td>\n",
       "      <td>[]</td>\n",
       "      <td>Freeway</td>\n",
       "    </tr>\n",
       "    <tr>\n",
       "      <th>4</th>\n",
       "      <td>20</td>\n",
       "      <td>0</td>\n",
       "      <td>2008-11-26 01:45:05</td>\n",
       "      <td>2009-01-06 00:00:00</td>\n",
       "      <td>NaN</td>\n",
       "      <td>2</td>\n",
       "      <td>4</td>\n",
       "      <td>&lt;p&gt; \"spiritual songs\" from Nicky Cook&lt;/p&gt;</td>\n",
       "      <td>2710</td>\n",
       "      <td>NaN</td>\n",
       "      <td>[]</td>\n",
       "      <td>Niris</td>\n",
       "      <td>13</td>\n",
       "      <td>Album</td>\n",
       "      <td>1990-01-01 00:00:00</td>\n",
       "      <td>2011-01-01 00:00:00</td>\n",
       "      <td>NaN</td>\n",
       "      <td>&lt;p&gt;Songs written by: Nicky Cook&lt;/p&gt;\\n&lt;p&gt;VOCALS...</td>\n",
       "      <td>2</td>\n",
       "      <td>2008-11-26 01:42:52</td>\n",
       "      <td>10</td>\n",
       "      <td>4</td>\n",
       "      <td>51.895927</td>\n",
       "      <td>Colchester England</td>\n",
       "      <td>0.891874</td>\n",
       "      <td>Nicky Cook\\n</td>\n",
       "      <td>Nicky Cook</td>\n",
       "      <td>NaN</td>\n",
       "      <td>['instrumentals', 'experimental pop', 'post pu...</td>\n",
       "      <td>NaN</td>\n",
       "      <td>NaN</td>\n",
       "      <td>training</td>\n",
       "      <td>large</td>\n",
       "      <td>256000</td>\n",
       "      <td>0</td>\n",
       "      <td>NaN</td>\n",
       "      <td>2008-11-26 01:48:56</td>\n",
       "      <td>2008-01-01 00:00:00</td>\n",
       "      <td>311</td>\n",
       "      <td>0</td>\n",
       "      <td>NaN</td>\n",
       "      <td>[76, 103]</td>\n",
       "      <td>[17, 10, 76, 103]</td>\n",
       "      <td>NaN</td>\n",
       "      <td>978</td>\n",
       "      <td>en</td>\n",
       "      <td>Attribution-NonCommercial-NoDerivatives (aka M...</td>\n",
       "      <td>361</td>\n",
       "      <td>NaN</td>\n",
       "      <td>3</td>\n",
       "      <td>NaN</td>\n",
       "      <td>[]</td>\n",
       "      <td>Spiritual Level</td>\n",
       "    </tr>\n",
       "  </tbody>\n",
       "</table>\n",
       "</div>"
      ],
      "text/plain": [
       "  track_id comments         date_created        date_released engineer  \\\n",
       "0        2        0  2008-11-26 01:44:45  2009-01-05 00:00:00      NaN   \n",
       "1        3        0  2008-11-26 01:44:45  2009-01-05 00:00:00      NaN   \n",
       "2        5        0  2008-11-26 01:44:45  2009-01-05 00:00:00      NaN   \n",
       "3       10        0  2008-11-26 01:45:08  2008-02-06 00:00:00      NaN   \n",
       "4       20        0  2008-11-26 01:45:05  2009-01-06 00:00:00      NaN   \n",
       "\n",
       "  favorites id                                information listens producer  \\\n",
       "0         4  1                                    <p></p>    6073      NaN   \n",
       "1         4  1                                    <p></p>    6073      NaN   \n",
       "2         4  1                                    <p></p>    6073      NaN   \n",
       "3         4  6                                        NaN   47632      NaN   \n",
       "4         2  4  <p> \"spiritual songs\" from Nicky Cook</p>    2710      NaN   \n",
       "\n",
       "  tags                 title tracks   type    active_year_begin  \\\n",
       "0   []  AWOL - A Way Of Life      7  Album  2006-01-01 00:00:00   \n",
       "1   []  AWOL - A Way Of Life      7  Album  2006-01-01 00:00:00   \n",
       "2   []  AWOL - A Way Of Life      7  Album  2006-01-01 00:00:00   \n",
       "3   []     Constant Hitmaker      2  Album                  NaN   \n",
       "4   []                 Niris     13  Album  1990-01-01 00:00:00   \n",
       "\n",
       "       active_year_end                                  associated_labels  \\\n",
       "0                  NaN                                                NaN   \n",
       "1                  NaN                                                NaN   \n",
       "2                  NaN                                                NaN   \n",
       "3                  NaN  Mexican Summer, Richie Records, Woodsist, Skul...   \n",
       "4  2011-01-01 00:00:00                                                NaN   \n",
       "\n",
       "                                                 bio comments  \\\n",
       "0  <p>A Way Of Life, A Collective of Hip-Hop from...        0   \n",
       "1  <p>A Way Of Life, A Collective of Hip-Hop from...        0   \n",
       "2  <p>A Way Of Life, A Collective of Hip-Hop from...        0   \n",
       "3  <p><span style=\"font-family:Verdana, Geneva, A...        3   \n",
       "4  <p>Songs written by: Nicky Cook</p>\\n<p>VOCALS...        2   \n",
       "\n",
       "          date_created favorites id    latitude            location  \\\n",
       "0  2008-11-26 01:42:32         9  1  40.0583238          New Jersey   \n",
       "1  2008-11-26 01:42:32         9  1  40.0583238          New Jersey   \n",
       "2  2008-11-26 01:42:32         9  1  40.0583238          New Jersey   \n",
       "3  2008-11-26 01:42:55        74  6         NaN                 NaN   \n",
       "4  2008-11-26 01:42:52        10  4   51.895927  Colchester England   \n",
       "\n",
       "     longitude                                            members        name  \\\n",
       "0  -74.4056612  Sajje Morocco,Brownbum,ZawidaGod,Custodian of ...        AWOL   \n",
       "1  -74.4056612  Sajje Morocco,Brownbum,ZawidaGod,Custodian of ...        AWOL   \n",
       "2  -74.4056612  Sajje Morocco,Brownbum,ZawidaGod,Custodian of ...        AWOL   \n",
       "3          NaN                           Kurt Vile, the Violators   Kurt Vile   \n",
       "4     0.891874                                       Nicky Cook\\n  Nicky Cook   \n",
       "\n",
       "                                    related_projects  \\\n",
       "0  The list of past projects is 2 long but every1...   \n",
       "1  The list of past projects is 2 long but every1...   \n",
       "2  The list of past projects is 2 long but every1...   \n",
       "3                                                NaN   \n",
       "4                                                NaN   \n",
       "\n",
       "                                                tags  \\\n",
       "0                                           ['awol']   \n",
       "1                                           ['awol']   \n",
       "2                                           ['awol']   \n",
       "3                            ['philly', 'kurt vile']   \n",
       "4  ['instrumentals', 'experimental pop', 'post pu...   \n",
       "\n",
       "                                   website wikipedia_page     split  subset  \\\n",
       "0  http://www.AzillionRecords.blogspot.com            NaN  training   small   \n",
       "1  http://www.AzillionRecords.blogspot.com            NaN  training  medium   \n",
       "2  http://www.AzillionRecords.blogspot.com            NaN  training   small   \n",
       "3                      http://kurtvile.com            NaN  training   small   \n",
       "4                                      NaN            NaN  training   large   \n",
       "\n",
       "  bit_rate comments   composer         date_created        date_recorded  \\\n",
       "0   256000        0        NaN  2008-11-26 01:48:12  2008-11-26 00:00:00   \n",
       "1   256000        0        NaN  2008-11-26 01:48:14  2008-11-26 00:00:00   \n",
       "2   256000        0        NaN  2008-11-26 01:48:20  2008-11-26 00:00:00   \n",
       "3   192000        0  Kurt Vile  2008-11-25 17:49:06  2008-11-26 00:00:00   \n",
       "4   256000        0        NaN  2008-11-26 01:48:56  2008-01-01 00:00:00   \n",
       "\n",
       "  duration favorites genre_top     genres         genres_all information  \\\n",
       "0      168         2   Hip-Hop       [21]               [21]         NaN   \n",
       "1      237         1   Hip-Hop       [21]               [21]         NaN   \n",
       "2      206         6   Hip-Hop       [21]               [21]         NaN   \n",
       "3      161       178       Pop       [10]               [10]         NaN   \n",
       "4      311         0       NaN  [76, 103]  [17, 10, 76, 103]         NaN   \n",
       "\n",
       "  interest language_code                                            license  \\\n",
       "0     4656            en  Attribution-NonCommercial-ShareAlike 3.0 Inter...   \n",
       "1     1470            en  Attribution-NonCommercial-ShareAlike 3.0 Inter...   \n",
       "2     1933            en  Attribution-NonCommercial-ShareAlike 3.0 Inter...   \n",
       "3    54881            en  Attribution-NonCommercial-NoDerivatives (aka M...   \n",
       "4      978            en  Attribution-NonCommercial-NoDerivatives (aka M...   \n",
       "\n",
       "  listens lyricist number publisher tags            title  \n",
       "0    1293      NaN      3       NaN   []             Food  \n",
       "1     514      NaN      4       NaN   []     Electric Ave  \n",
       "2    1151      NaN      6       NaN   []       This World  \n",
       "3   50135      NaN      1       NaN   []          Freeway  \n",
       "4     361      NaN      3       NaN   []  Spiritual Level  "
      ]
     },
     "execution_count": 388,
     "metadata": {},
     "output_type": "execute_result"
    }
   ],
   "source": [
    "import pandas as pd\n",
    "\n",
    "tracks = pd.read_csv('tracks.csv')\n",
    "tracks.columns = tracks.iloc[0]\n",
    "tracks = tracks.drop([0, 1])\n",
    "new_cols = tracks.columns.values\n",
    "new_cols[0] = 'track_id'\n",
    "tracks.columns = new_cols\n",
    "tracks = tracks.reset_index(drop=True)\n",
    "tracks.head()"
   ]
  },
  {
   "cell_type": "code",
   "execution_count": 5,
   "metadata": {
    "colab": {
     "base_uri": "https://localhost:8080/",
     "height": 315
    },
    "colab_type": "code",
    "id": "5o-iCFVQYZUD",
    "outputId": "839169e1-5940-4d2a-d397-816074135d67"
   },
   "outputs": [
    {
     "data": {
      "text/html": [
       "<div>\n",
       "<style scoped>\n",
       "    .dataframe tbody tr th:only-of-type {\n",
       "        vertical-align: middle;\n",
       "    }\n",
       "\n",
       "    .dataframe tbody tr th {\n",
       "        vertical-align: top;\n",
       "    }\n",
       "\n",
       "    .dataframe thead tr th {\n",
       "        text-align: left;\n",
       "    }\n",
       "</style>\n",
       "<table border=\"1\" class=\"dataframe\">\n",
       "  <thead>\n",
       "    <tr>\n",
       "      <th>feature</th>\n",
       "      <th>track_id</th>\n",
       "      <th colspan=\"9\" halign=\"left\">chroma_cens</th>\n",
       "      <th>...</th>\n",
       "      <th colspan=\"3\" halign=\"left\">tonnetz</th>\n",
       "      <th colspan=\"7\" halign=\"left\">zcr</th>\n",
       "    </tr>\n",
       "    <tr>\n",
       "      <th>statistics</th>\n",
       "      <th></th>\n",
       "      <th colspan=\"9\" halign=\"left\">kurtosis</th>\n",
       "      <th>...</th>\n",
       "      <th colspan=\"3\" halign=\"left\">std</th>\n",
       "      <th>kurtosis</th>\n",
       "      <th>max</th>\n",
       "      <th>mean</th>\n",
       "      <th>median</th>\n",
       "      <th>min</th>\n",
       "      <th>skew</th>\n",
       "      <th>std</th>\n",
       "    </tr>\n",
       "    <tr>\n",
       "      <th>number</th>\n",
       "      <th></th>\n",
       "      <th>01</th>\n",
       "      <th>02</th>\n",
       "      <th>03</th>\n",
       "      <th>04</th>\n",
       "      <th>05</th>\n",
       "      <th>06</th>\n",
       "      <th>07</th>\n",
       "      <th>08</th>\n",
       "      <th>09</th>\n",
       "      <th>...</th>\n",
       "      <th>04</th>\n",
       "      <th>05</th>\n",
       "      <th>06</th>\n",
       "      <th>01</th>\n",
       "      <th>01</th>\n",
       "      <th>01</th>\n",
       "      <th>01</th>\n",
       "      <th>01</th>\n",
       "      <th>01</th>\n",
       "      <th>01</th>\n",
       "    </tr>\n",
       "  </thead>\n",
       "  <tbody>\n",
       "    <tr>\n",
       "      <th>0</th>\n",
       "      <td>2</td>\n",
       "      <td>7.180653</td>\n",
       "      <td>5.230309</td>\n",
       "      <td>0.249321</td>\n",
       "      <td>1.347620</td>\n",
       "      <td>1.482478</td>\n",
       "      <td>0.531371</td>\n",
       "      <td>1.481593</td>\n",
       "      <td>2.691455</td>\n",
       "      <td>0.866868</td>\n",
       "      <td>...</td>\n",
       "      <td>0.054125</td>\n",
       "      <td>0.012226</td>\n",
       "      <td>0.012111</td>\n",
       "      <td>5.758890</td>\n",
       "      <td>0.459473</td>\n",
       "      <td>0.085629</td>\n",
       "      <td>0.071289</td>\n",
       "      <td>0.000000</td>\n",
       "      <td>2.089872</td>\n",
       "      <td>0.061448</td>\n",
       "    </tr>\n",
       "    <tr>\n",
       "      <th>1</th>\n",
       "      <td>3</td>\n",
       "      <td>1.888963</td>\n",
       "      <td>0.760539</td>\n",
       "      <td>0.345297</td>\n",
       "      <td>2.295201</td>\n",
       "      <td>1.654031</td>\n",
       "      <td>0.067592</td>\n",
       "      <td>1.366848</td>\n",
       "      <td>1.054094</td>\n",
       "      <td>0.108103</td>\n",
       "      <td>...</td>\n",
       "      <td>0.063831</td>\n",
       "      <td>0.014212</td>\n",
       "      <td>0.017740</td>\n",
       "      <td>2.824694</td>\n",
       "      <td>0.466309</td>\n",
       "      <td>0.084578</td>\n",
       "      <td>0.063965</td>\n",
       "      <td>0.000000</td>\n",
       "      <td>1.716724</td>\n",
       "      <td>0.069330</td>\n",
       "    </tr>\n",
       "    <tr>\n",
       "      <th>2</th>\n",
       "      <td>5</td>\n",
       "      <td>0.527563</td>\n",
       "      <td>-0.077654</td>\n",
       "      <td>-0.279610</td>\n",
       "      <td>0.685883</td>\n",
       "      <td>1.937570</td>\n",
       "      <td>0.880839</td>\n",
       "      <td>-0.923192</td>\n",
       "      <td>-0.927232</td>\n",
       "      <td>0.666617</td>\n",
       "      <td>...</td>\n",
       "      <td>0.040730</td>\n",
       "      <td>0.012691</td>\n",
       "      <td>0.014759</td>\n",
       "      <td>6.808415</td>\n",
       "      <td>0.375000</td>\n",
       "      <td>0.053114</td>\n",
       "      <td>0.041504</td>\n",
       "      <td>0.000000</td>\n",
       "      <td>2.193303</td>\n",
       "      <td>0.044861</td>\n",
       "    </tr>\n",
       "    <tr>\n",
       "      <th>3</th>\n",
       "      <td>10</td>\n",
       "      <td>3.702245</td>\n",
       "      <td>-0.291193</td>\n",
       "      <td>2.196742</td>\n",
       "      <td>-0.234449</td>\n",
       "      <td>1.367364</td>\n",
       "      <td>0.998411</td>\n",
       "      <td>1.770694</td>\n",
       "      <td>1.604566</td>\n",
       "      <td>0.521217</td>\n",
       "      <td>...</td>\n",
       "      <td>0.074358</td>\n",
       "      <td>0.017952</td>\n",
       "      <td>0.013921</td>\n",
       "      <td>21.434212</td>\n",
       "      <td>0.452148</td>\n",
       "      <td>0.077515</td>\n",
       "      <td>0.071777</td>\n",
       "      <td>0.000000</td>\n",
       "      <td>3.542325</td>\n",
       "      <td>0.040800</td>\n",
       "    </tr>\n",
       "    <tr>\n",
       "      <th>4</th>\n",
       "      <td>20</td>\n",
       "      <td>-0.193837</td>\n",
       "      <td>-0.198527</td>\n",
       "      <td>0.201546</td>\n",
       "      <td>0.258556</td>\n",
       "      <td>0.775204</td>\n",
       "      <td>0.084794</td>\n",
       "      <td>-0.289294</td>\n",
       "      <td>-0.816410</td>\n",
       "      <td>0.043851</td>\n",
       "      <td>...</td>\n",
       "      <td>0.095003</td>\n",
       "      <td>0.022492</td>\n",
       "      <td>0.021355</td>\n",
       "      <td>16.669037</td>\n",
       "      <td>0.469727</td>\n",
       "      <td>0.047225</td>\n",
       "      <td>0.040039</td>\n",
       "      <td>0.000977</td>\n",
       "      <td>3.189831</td>\n",
       "      <td>0.030993</td>\n",
       "    </tr>\n",
       "  </tbody>\n",
       "</table>\n",
       "<p>5 rows × 519 columns</p>\n",
       "</div>"
      ],
      "text/plain": [
       "feature    track_id chroma_cens                                          \\\n",
       "statistics             kurtosis                                           \n",
       "number                       01        02        03        04        05   \n",
       "0                 2    7.180653  5.230309  0.249321  1.347620  1.482478   \n",
       "1                 3    1.888963  0.760539  0.345297  2.295201  1.654031   \n",
       "2                 5    0.527563 -0.077654 -0.279610  0.685883  1.937570   \n",
       "3                10    3.702245 -0.291193  2.196742 -0.234449  1.367364   \n",
       "4                20   -0.193837 -0.198527  0.201546  0.258556  0.775204   \n",
       "\n",
       "feature                                             ...   tonnetz            \\\n",
       "statistics                                          ...       std             \n",
       "number            06        07        08        09  ...        04        05   \n",
       "0           0.531371  1.481593  2.691455  0.866868  ...  0.054125  0.012226   \n",
       "1           0.067592  1.366848  1.054094  0.108103  ...  0.063831  0.014212   \n",
       "2           0.880839 -0.923192 -0.927232  0.666617  ...  0.040730  0.012691   \n",
       "3           0.998411  1.770694  1.604566  0.521217  ...  0.074358  0.017952   \n",
       "4           0.084794 -0.289294 -0.816410  0.043851  ...  0.095003  0.022492   \n",
       "\n",
       "feature                     zcr                                          \\\n",
       "statistics             kurtosis       max      mean    median       min   \n",
       "number            06         01        01        01        01        01   \n",
       "0           0.012111   5.758890  0.459473  0.085629  0.071289  0.000000   \n",
       "1           0.017740   2.824694  0.466309  0.084578  0.063965  0.000000   \n",
       "2           0.014759   6.808415  0.375000  0.053114  0.041504  0.000000   \n",
       "3           0.013921  21.434212  0.452148  0.077515  0.071777  0.000000   \n",
       "4           0.021355  16.669037  0.469727  0.047225  0.040039  0.000977   \n",
       "\n",
       "feature                         \n",
       "statistics      skew       std  \n",
       "number            01        01  \n",
       "0           2.089872  0.061448  \n",
       "1           1.716724  0.069330  \n",
       "2           2.193303  0.044861  \n",
       "3           3.542325  0.040800  \n",
       "4           3.189831  0.030993  \n",
       "\n",
       "[5 rows x 519 columns]"
      ]
     },
     "execution_count": 5,
     "metadata": {},
     "output_type": "execute_result"
    }
   ],
   "source": [
    "features = features.reset_index()\n",
    "features.head()"
   ]
  },
  {
   "cell_type": "code",
   "execution_count": 51,
   "metadata": {
    "colab": {
     "base_uri": "https://localhost:8080/",
     "height": 51
    },
    "colab_type": "code",
    "id": "25ggt5KvXurs",
    "outputId": "763229ce-202e-4e1e-b5e5-e622c72860e2"
   },
   "outputs": [
    {
     "name": "stdout",
     "output_type": "stream",
     "text": [
      "6400 training examples, 800 testing examples\n",
      "140 features, 8 classes\n"
     ]
    }
   ],
   "source": [
    "#small = tracks['set', 'subset'] <= 'small'\n",
    "\n",
    "#train = tracks['set', 'split'] == 'training'\n",
    "#val = tracks['set', 'split'] == 'validation'\n",
    "#test = tracks['set', 'split'] == 'test'\n",
    "import numpy as np\n",
    "\n",
    "\n",
    "tracks['subset'] = tracks['subset'].astype('string')\n",
    "tracks['split'] = tracks['split'].astype('string')\n",
    "tracks['genre_top'] = tracks['genre_top'].astype('string')\n",
    "\n",
    "y_train = tracks.loc[(tracks['subset'] == 'small') & (tracks['split'] == 'training')]['genre_top']\n",
    "y_val = tracks.loc[(tracks['subset'] == 'small') & (tracks['split'] == 'validation')]['genre_top']\n",
    "y_test = tracks.loc[(tracks['subset'] == 'small') & (tracks['split'] == 'test')]['genre_top']\n",
    "X_train = features.loc[(tracks['subset'] == 'small') & (tracks['split'] == 'training')]['mfcc']\n",
    "X_test = features.loc[(tracks['subset'] == 'small') & (tracks['split'] == 'test')]['mfcc']\n",
    "X_val = features.loc[(tracks['subset'] == 'small') & (tracks['split'] == 'validation')]['mfcc']\n",
    "\n",
    "print('{} training examples, {} testing examples'.format(y_train.size, y_test.size))\n",
    "print('{} features, {} classes'.format(X_train.shape[1], np.unique(y_train).size))"
   ]
  },
  {
   "cell_type": "code",
   "execution_count": 52,
   "metadata": {
    "colab": {
     "base_uri": "https://localhost:8080/",
     "height": 51
    },
    "colab_type": "code",
    "id": "b2_bOAxYjyvv",
    "outputId": "06758114-43d1-4215-912d-46d766e25c07"
   },
   "outputs": [
    {
     "data": {
      "text/plain": [
       "array(['Electronic', 'Experimental', 'Folk', 'Hip-Hop', 'Instrumental',\n",
       "       'International', 'Pop', 'Rock'], dtype=object)"
      ]
     },
     "execution_count": 52,
     "metadata": {},
     "output_type": "execute_result"
    }
   ],
   "source": [
    "np.unique(y_train)"
   ]
  },
  {
   "cell_type": "code",
   "execution_count": 53,
   "metadata": {
    "colab": {
     "base_uri": "https://localhost:8080/",
     "height": 51
    },
    "colab_type": "code",
    "id": "UeQkiYtylB3Z",
    "outputId": "01f66028-87c4-4fba-e6a3-69e3e5e1fc6c"
   },
   "outputs": [
    {
     "data": {
      "text/plain": [
       "array(['Electronic', 'Experimental', 'Folk', 'Hip-Hop', 'Instrumental',\n",
       "       'International', 'Pop', 'Rock'], dtype=object)"
      ]
     },
     "execution_count": 53,
     "metadata": {},
     "output_type": "execute_result"
    }
   ],
   "source": [
    "np.unique(y_test)"
   ]
  },
  {
   "cell_type": "code",
   "execution_count": 54,
   "metadata": {
    "colab": {
     "base_uri": "https://localhost:8080/",
     "height": 34
    },
    "colab_type": "code",
    "id": "08O85-Uxljct",
    "outputId": "cf813508-d916-40ba-8cab-2c3632c2f6a5"
   },
   "outputs": [
    {
     "name": "stdout",
     "output_type": "stream",
     "text": [
      "Random Forest Score: 0.99984375\n"
     ]
    }
   ],
   "source": [
    "import sklearn as skl\n",
    "\n",
    "X_train, y_train = skl.utils.shuffle(X_train, y_train, random_state=42)\n",
    "scaler = skl.preprocessing.StandardScaler(copy=False)\n",
    "X_train = scaler.fit_transform(X_train)\n",
    "X_val = scaler.transform(X_val)\n",
    "X_test = scaler.transform(X_test)\n",
    "\n",
    "from sklearn.ensemble import RandomForestClassifier\n",
    "import matplotlib.pyplot as plt\n",
    "\n",
    "RF = RandomForestClassifier()\n",
    "ran_for = RF.fit(X_train, y_train)\n",
    "RF_score = ran_for.score(X_train, y_train)\n",
    "\n",
    "print(\"Random Forest Score: \" + str(RF_score))"
   ]
  },
  {
   "cell_type": "code",
   "execution_count": 55,
   "metadata": {
    "colab": {
     "base_uri": "https://localhost:8080/",
     "height": 34
    },
    "colab_type": "code",
    "id": "8BiiwgtnmDVg",
    "outputId": "613e5e0f-0672-4eb7-9a58-d01972b4796e"
   },
   "outputs": [
    {
     "name": "stdout",
     "output_type": "stream",
     "text": [
      "Random Forest Score: 0.51625\n"
     ]
    }
   ],
   "source": [
    "RF_test = ran_for.score(X_val, y_val)\n",
    "\n",
    "print(\"Random Forest Score: \" + str(RF_test))"
   ]
  },
  {
   "cell_type": "code",
   "execution_count": 56,
   "metadata": {
    "colab": {
     "base_uri": "https://localhost:8080/",
     "height": 527
    },
    "colab_type": "code",
    "id": "IDXjdomRsbKN",
    "outputId": "c59bdca7-0450-451f-b6ac-8f67b0fc1a1e"
   },
   "outputs": [],
   "source": [
    "y_train = np.array(y_train)\n",
    "y_val = np.array(y_val)\n",
    "y_test = np.array(y_test)"
   ]
  },
  {
   "cell_type": "code",
   "execution_count": 57,
   "metadata": {
    "colab": {},
    "colab_type": "code",
    "id": "MDSGiKFLtGXV"
   },
   "outputs": [],
   "source": [
    "from sklearn.preprocessing import LabelEncoder\n",
    "\n",
    "le = LabelEncoder()\n",
    "y_train = le.fit_transform(y_train)\n",
    "y_val = le.transform(y_val)\n",
    "y_test = le.transform(y_test)"
   ]
  },
  {
   "cell_type": "code",
   "execution_count": 58,
   "metadata": {
    "colab": {},
    "colab_type": "code",
    "id": "NlhfrBV2nAQq"
   },
   "outputs": [],
   "source": [
    "import tensorflow as tf\n",
    "\n",
    "y_train = tf.keras.utils.to_categorical(y_train, num_classes=8, dtype='int32')\n",
    "y_val = tf.keras.utils.to_categorical(y_val, num_classes=8, dtype='int32')\n",
    "y_test = tf.keras.utils.to_categorical(y_test, num_classes=8, dtype='int32')"
   ]
  },
  {
   "cell_type": "code",
   "execution_count": 59,
   "metadata": {
    "colab": {
     "base_uri": "https://localhost:8080/",
     "height": 612
    },
    "colab_type": "code",
    "id": "GClqkh3QpZLV",
    "outputId": "724d1d5f-1328-451b-e6cc-97b441709d35"
   },
   "outputs": [
    {
     "data": {
      "text/plain": [
       "array([-0.22523181, -0.45338181,  0.40686407, -0.12711467,  0.0832777 ,\n",
       "       -0.36699721, -0.65456896, -0.53287677, -0.51443483, -0.49639243,\n",
       "        0.17098347,  0.11411216,  0.66632894,  2.09214894,  1.34797479,\n",
       "        0.11942389,  0.55360107,  0.71199253,  4.13663218,  4.05247313,\n",
       "        0.91566051,  0.62597671, -0.55880746, -1.34135543, -1.39236275,\n",
       "       -1.22332363, -1.02467837, -1.14237013, -1.25273333, -0.8270932 ,\n",
       "        0.14612826,  0.08486021, -0.40468563,  1.47947377,  0.71684398,\n",
       "        0.38072489,  0.61538206,  0.42030442,  2.24254944,  2.27898357,\n",
       "        0.16417312,  0.08655967, -0.91328789, -0.81375718, -0.96409979,\n",
       "       -0.67928352, -1.50988924, -0.9497647 , -1.68141807, -0.75189375,\n",
       "       -1.68415119, -1.41285163, -1.45857316, -0.86698835, -0.66983148,\n",
       "       -0.39352314, -0.77294708, -0.94773729, -0.62375284, -0.84089234,\n",
       "        0.25098007,  0.02972327, -0.87928279, -0.65440687, -0.95088382,\n",
       "       -0.66292798, -1.55742187, -0.95760126, -1.67684384, -0.75810013,\n",
       "       -1.76729722, -1.4279364 , -1.51878997, -0.8589735 , -0.69400538,\n",
       "       -0.40624296, -0.762918  , -1.00595072, -0.73537325, -1.03082385,\n",
       "       -0.48677921,  0.45511633, -1.4806347 , -0.52842539, -0.7077605 ,\n",
       "       -0.78003416, -0.21540073, -0.45323326, -0.86430697,  0.20975797,\n",
       "       -0.20012471, -0.40026312, -1.38868791, -0.72697549, -0.60108243,\n",
       "       -0.31457761, -1.02653063, -0.5125565 , -0.63423941, -0.4946915 ,\n",
       "        0.15478374,  0.59442597,  0.10743131, -0.89018231, -0.15974623,\n",
       "       -0.13103956,  0.64867645,  0.1803463 ,  0.02906533,  0.28219974,\n",
       "        1.10234855,  0.5106418 ,  0.55463826,  0.37327807,  0.7640093 ,\n",
       "        0.34871468, -0.02239438,  1.17482311,  2.67028483,  3.49417225,\n",
       "        0.98840911, -0.15002873, -0.13740842, -0.46710154, -0.46829853,\n",
       "       -0.73302506, -0.39072534, -0.58078749, -0.39741925, -0.5913056 ,\n",
       "       -0.46438677, -0.30375741, -0.15388995, -0.23548409, -0.4783827 ,\n",
       "       -0.40554989,  0.06592178, -0.07888294,  0.26518577,  0.76894281])"
      ]
     },
     "execution_count": 59,
     "metadata": {},
     "output_type": "execute_result"
    }
   ],
   "source": [
    "X_train = np.array(X_train)\n",
    "X_val = np.array(X_val)\n",
    "y_train = np.array(y_train)\n",
    "y_val = np.array(y_val)\n",
    "X_test = np.array(X_test)\n",
    "y_test = np.array(y_test)\n",
    "\n",
    "X_train[0]"
   ]
  },
  {
   "cell_type": "code",
   "execution_count": 60,
   "metadata": {
    "colab": {
     "base_uri": "https://localhost:8080/",
     "height": 34
    },
    "colab_type": "code",
    "id": "t5Z71V0ku2Tw",
    "outputId": "84a14752-6e57-476d-d07c-e2e1cb30fdf2"
   },
   "outputs": [
    {
     "data": {
      "text/plain": [
       "6400"
      ]
     },
     "execution_count": 60,
     "metadata": {},
     "output_type": "execute_result"
    }
   ],
   "source": [
    "len(X_train)"
   ]
  },
  {
   "cell_type": "code",
   "execution_count": 63,
   "metadata": {
    "colab": {
     "base_uri": "https://localhost:8080/",
     "height": 1000
    },
    "colab_type": "code",
    "id": "KG4GQurwmlEt",
    "outputId": "fdb19fc0-ed5e-4846-a0ae-3b864897e3f6"
   },
   "outputs": [
    {
     "data": {
      "image/png": "[encoded data removed]",
      "text/plain": [
       "<Figure size 432x288 with 1 Axes>"
      ]
     },
     "metadata": {
      "needs_background": "light"
     },
     "output_type": "display_data"
    },
    {
     "data": {
      "image/png": "[encoded data removed]",
      "text/plain": [
       "<Figure size 432x288 with 1 Axes>"
      ]
     },
     "metadata": {
      "needs_background": "light"
     },
     "output_type": "display_data"
    },
    {
     "name": "stdout",
     "output_type": "stream",
     "text": [
      "Train:\n",
      "6400/1 - 1s - loss: 1.6316 - accuracy: 0.7216\n",
      "[1.5551291966438294, 0.7215625]\n",
      "Val:\n",
      "800/1 - 0s - loss: 1.7213 - accuracy: 0.5150\n",
      "[1.7588580560684204, 0.515]\n"
     ]
    }
   ],
   "source": [
    "from tensorflow.keras.layers import Dense\n",
    "from tensorflow.keras.callbacks import ModelCheckpoint\n",
    "from tensorflow.keras.models import load_model\n",
    "\n",
    "activation='relu'\n",
    "weight_init=None\n",
    "optimizer=tf.keras.optimizers.Adam(lr=0.001)\n",
    "metrics=['accuracy']\n",
    "epochs = 1000\n",
    "batch_size=None\n",
    "\n",
    "model = tf.keras.Sequential()\n",
    "model.add(Dense(100, activation=activation, kernel_initializer=weight_init, input_shape=(X_train.shape[1],)))\n",
    "model.add(Dense(100, activation=activation))\n",
    "model.add(Dense(100, activation=activation))\n",
    "model.add(Dense(8, activation='softmax'))\n",
    "model.compile(optimizer=optimizer, loss=tf.keras.losses.CategoricalCrossentropy(from_logits=True), metrics=metrics)\n",
    "mcp_save = ModelCheckpoint('best_model.hdf5', save_best_only=True, monitor='val_accuracy', mode='max', verbose=0)\n",
    "history = model.fit(X_train, y_train, validation_data=(X_val, y_val), epochs=epochs, batch_size=batch_size, verbose=0, callbacks=[mcp_save])\n",
    "plt.plot(history.history['' + metrics[0]])\n",
    "plt.plot(history.history['val_accuracy'])\n",
    "plt.legend(['Train', 'Val'], loc='upper left')\n",
    "plt.show()\n",
    "plt.plot(history.history['loss'])\n",
    "plt.plot(history.history['val_loss'])\n",
    "plt.show()\n",
    "\n",
    "best_model = load_model('best_model.hdf5')\n",
    "print(\"Train:\")\n",
    "print(best_model.evaluate(X_train, y_train, verbose=2))\n",
    "print(\"Val:\")\n",
    "print(best_model.evaluate(X_val, y_val, verbose=2))"
   ]
  },
  {
   "cell_type": "code",
   "execution_count": 65,
   "metadata": {},
   "outputs": [
    {
     "name": "stdout",
     "output_type": "stream",
     "text": [
      "800/1 - 0s - loss: 1.8532 - accuracy: 0.4263\n"
     ]
    },
    {
     "data": {
      "text/plain": [
       "[1.8392126846313477, 0.42625]"
      ]
     },
     "execution_count": 65,
     "metadata": {},
     "output_type": "execute_result"
    }
   ],
   "source": [
    "best_model.evaluate(X_test, y_test, verbose=2)"
   ]
  },
  {
   "cell_type": "markdown",
   "metadata": {},
   "source": [
    "### From audio instead of from features csv"
   ]
  },
  {
   "cell_type": "code",
   "execution_count": 389,
   "metadata": {},
   "outputs": [
    {
     "data": {
      "text/plain": [
       "array([[-2.25310822e+02, -1.38351990e+02, -1.14121765e+02, ...,\n",
       "         1.88393764e+01,  2.74668903e+01, -4.20031595e+00],\n",
       "       [ 1.47226013e+02,  1.09761940e+02,  8.60581970e+01, ...,\n",
       "         3.29497681e+01,  3.15308647e+01,  3.74996147e+01],\n",
       "       [-9.10932312e+01, -7.32884598e+01, -5.58849220e+01, ...,\n",
       "        -2.00935383e+01, -2.35903893e+01, -2.36109047e+01],\n",
       "       ...,\n",
       "       [ 1.43565893e+00,  2.43408203e-01, -6.02198601e-01, ...,\n",
       "        -1.78685188e-02,  4.07983208e+00,  3.98852015e+00],\n",
       "       [-1.59950428e+01, -1.68268204e+01, -1.50425673e+01, ...,\n",
       "        -1.85527456e+00, -2.85183334e+00, -8.66340828e+00],\n",
       "       [ 5.29949188e-01, -1.19427252e+00, -1.96158552e+00, ...,\n",
       "         8.85653305e+00,  3.91285276e+00, -7.08737373e-01]], dtype=float32)"
      ]
     },
     "execution_count": 389,
     "metadata": {},
     "output_type": "execute_result"
    }
   ],
   "source": [
    "import pickle\n",
    "import numpy as np\n",
    "\n",
    "mfcc = pickle.load(open('mfcc.pkl', 'rb'))\n",
    "mfcc[0]"
   ]
  },
  {
   "cell_type": "code",
   "execution_count": 390,
   "metadata": {},
   "outputs": [],
   "source": [
    "#features.loc[(tracks['subset'] == 'small')]['mfcc'].loc[[0]]"
   ]
  },
  {
   "cell_type": "code",
   "execution_count": 391,
   "metadata": {},
   "outputs": [
    {
     "data": {
      "text/html": [
       "<div>\n",
       "<style scoped>\n",
       "    .dataframe tbody tr th:only-of-type {\n",
       "        vertical-align: middle;\n",
       "    }\n",
       "\n",
       "    .dataframe tbody tr th {\n",
       "        vertical-align: top;\n",
       "    }\n",
       "\n",
       "    .dataframe thead th {\n",
       "        text-align: right;\n",
       "    }\n",
       "</style>\n",
       "<table border=\"1\" class=\"dataframe\">\n",
       "  <thead>\n",
       "    <tr style=\"text-align: right;\">\n",
       "      <th></th>\n",
       "      <th>0</th>\n",
       "    </tr>\n",
       "  </thead>\n",
       "  <tbody>\n",
       "    <tr>\n",
       "      <th>0</th>\n",
       "      <td>[[-225.31082, -138.35199, -114.121765, -101.74...</td>\n",
       "    </tr>\n",
       "    <tr>\n",
       "      <th>1</th>\n",
       "      <td>[[-234.39796, -141.91275, -107.215836, -83.674...</td>\n",
       "    </tr>\n",
       "    <tr>\n",
       "      <th>2</th>\n",
       "      <td>[[-136.30695, -40.796967, -3.1052394, -2.99612...</td>\n",
       "    </tr>\n",
       "    <tr>\n",
       "      <th>3</th>\n",
       "      <td>[[-533.94495, -469.86926, -396.42896, -303.211...</td>\n",
       "    </tr>\n",
       "    <tr>\n",
       "      <th>4</th>\n",
       "      <td>[[-469.85803, -343.57614, -249.99966, -237.107...</td>\n",
       "    </tr>\n",
       "  </tbody>\n",
       "</table>\n",
       "</div>"
      ],
      "text/plain": [
       "                                                   0\n",
       "0  [[-225.31082, -138.35199, -114.121765, -101.74...\n",
       "1  [[-234.39796, -141.91275, -107.215836, -83.674...\n",
       "2  [[-136.30695, -40.796967, -3.1052394, -2.99612...\n",
       "3  [[-533.94495, -469.86926, -396.42896, -303.211...\n",
       "4  [[-469.85803, -343.57614, -249.99966, -237.107..."
      ]
     },
     "execution_count": 391,
     "metadata": {},
     "output_type": "execute_result"
    }
   ],
   "source": [
    "mfcc_df = pd.DataFrame(mfcc)\n",
    "mfcc_df.head()"
   ]
  },
  {
   "cell_type": "code",
   "execution_count": 392,
   "metadata": {},
   "outputs": [],
   "source": [
    "index_nan = np.argwhere(pd.isnull(mfcc))"
   ]
  },
  {
   "cell_type": "code",
   "execution_count": 393,
   "metadata": {},
   "outputs": [],
   "source": [
    "mfcc_df = mfcc_df.dropna()"
   ]
  },
  {
   "cell_type": "code",
   "execution_count": 394,
   "metadata": {},
   "outputs": [
    {
     "data": {
      "text/plain": [
       "7997"
      ]
     },
     "execution_count": 394,
     "metadata": {},
     "output_type": "execute_result"
    }
   ],
   "source": [
    "len(mfcc_df)"
   ]
  },
  {
   "cell_type": "code",
   "execution_count": 395,
   "metadata": {},
   "outputs": [
    {
     "data": {
      "text/plain": [
       "array([[-2.25310822e+02, -1.38351990e+02, -1.14121765e+02, ...,\n",
       "         1.88393764e+01,  2.74668903e+01, -4.20031595e+00],\n",
       "       [ 1.47226013e+02,  1.09761940e+02,  8.60581970e+01, ...,\n",
       "         3.29497681e+01,  3.15308647e+01,  3.74996147e+01],\n",
       "       [-9.10932312e+01, -7.32884598e+01, -5.58849220e+01, ...,\n",
       "        -2.00935383e+01, -2.35903893e+01, -2.36109047e+01],\n",
       "       ...,\n",
       "       [ 1.43565893e+00,  2.43408203e-01, -6.02198601e-01, ...,\n",
       "        -1.78685188e-02,  4.07983208e+00,  3.98852015e+00],\n",
       "       [-1.59950428e+01, -1.68268204e+01, -1.50425673e+01, ...,\n",
       "        -1.85527456e+00, -2.85183334e+00, -8.66340828e+00],\n",
       "       [ 5.29949188e-01, -1.19427252e+00, -1.96158552e+00, ...,\n",
       "         8.85653305e+00,  3.91285276e+00, -7.08737373e-01]], dtype=float32)"
      ]
     },
     "execution_count": 395,
     "metadata": {},
     "output_type": "execute_result"
    }
   ],
   "source": [
    "mfcc = mfcc_df.to_numpy().ravel()\n",
    "mfcc[0]"
   ]
  },
  {
   "cell_type": "code",
   "execution_count": 396,
   "metadata": {},
   "outputs": [
    {
     "data": {
      "text/plain": [
       "(20, 1292)"
      ]
     },
     "execution_count": 396,
     "metadata": {},
     "output_type": "execute_result"
    }
   ],
   "source": [
    "mfcc[0].shape"
   ]
  },
  {
   "cell_type": "code",
   "execution_count": 397,
   "metadata": {},
   "outputs": [],
   "source": [
    "for i in range(len(mfcc)):\n",
    "    mfcc[i] = np.append(mfcc[i], np.zeros((20, 1293 - mfcc[i].shape[1])), axis=1)"
   ]
  },
  {
   "cell_type": "code",
   "execution_count": 398,
   "metadata": {},
   "outputs": [],
   "source": [
    "index_nan = index_nan.ravel()"
   ]
  },
  {
   "cell_type": "code",
   "execution_count": 399,
   "metadata": {},
   "outputs": [],
   "source": [
    "tracks = tracks.loc[tracks['subset'] == 'small']\n",
    "tracks = tracks.reset_index()\n",
    "tracks = tracks.drop(index_nan)"
   ]
  },
  {
   "cell_type": "code",
   "execution_count": 400,
   "metadata": {},
   "outputs": [],
   "source": [
    "from sklearn.preprocessing import LabelEncoder\n",
    "import tensorflow as tf\n",
    "\n",
    "y_train = tracks.loc[(tracks['split'] == 'training')]['genre_top']\n",
    "y_val = tracks.loc[(tracks['split'] == 'validation')]['genre_top']\n",
    "y_test = tracks.loc[(tracks['split'] == 'test')]['genre_top']\n",
    "\n"
   ]
  },
  {
   "cell_type": "code",
   "execution_count": 401,
   "metadata": {},
   "outputs": [
    {
     "data": {
      "text/plain": [
       "7997"
      ]
     },
     "execution_count": 401,
     "metadata": {},
     "output_type": "execute_result"
    }
   ],
   "source": [
    "len(y_train) + len(y_val) + len(y_test)"
   ]
  },
  {
   "cell_type": "code",
   "execution_count": 402,
   "metadata": {},
   "outputs": [],
   "source": [
    "y_train = np.array(y_train)\n",
    "y_val = np.array(y_val)\n",
    "y_test = np.array(y_test)\n",
    "\n",
    "le = LabelEncoder()\n",
    "y_train = le.fit_transform(y_train)\n",
    "y_val = le.transform(y_val)\n",
    "y_test = le.transform(y_test)\n",
    "\n",
    "y_train = tf.keras.utils.to_categorical(y_train, num_classes=8, dtype='int32')\n",
    "y_val = tf.keras.utils.to_categorical(y_val, num_classes=8, dtype='int32')\n",
    "y_test = tf.keras.utils.to_categorical(y_test, num_classes=8, dtype='int32')"
   ]
  },
  {
   "cell_type": "code",
   "execution_count": 407,
   "metadata": {},
   "outputs": [],
   "source": [
    "mfcc = np.stack(mfcc.ravel()).reshape(-1, 20, 1293)"
   ]
  },
  {
   "cell_type": "code",
   "execution_count": 408,
   "metadata": {},
   "outputs": [
    {
     "data": {
      "text/plain": [
       "(7997, 20, 1293)"
      ]
     },
     "execution_count": 408,
     "metadata": {},
     "output_type": "execute_result"
    }
   ],
   "source": [
    "mfcc.shape"
   ]
  }
 ],
 "metadata": {
  "accelerator": "GPU",
  "colab": {
   "collapsed_sections": [],
   "name": "Music_Project.ipynb",
   "provenance": []
  },
  "kernelspec": {
   "display_name": "Python 3",
   "language": "python",
   "name": "python3"
  },
  "language_info": {
   "codemirror_mode": {
    "name": "ipython",
    "version": 3
   },
   "file_extension": ".py",
   "mimetype": "text/x-python",
   "name": "python",
   "nbconvert_exporter": "python",
   "pygments_lexer": "ipython3",
   "version": "3.7.6"
  }
 },
 "nbformat": 4,
 "nbformat_minor": 4
}
